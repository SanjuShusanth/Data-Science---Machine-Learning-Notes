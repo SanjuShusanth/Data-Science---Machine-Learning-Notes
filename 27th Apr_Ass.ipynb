{
 "cells": [
  {
   "cell_type": "markdown",
   "id": "a863b1c6",
   "metadata": {},
   "source": [
    "#### Q1. What are the different types of clustering algorithms, and how do they differ in terms of their approach and underlying assumptions?"
   ]
  },
  {
   "cell_type": "markdown",
   "id": "44b2e87c",
   "metadata": {},
   "source": [
    "Different types of Clustering Algorithms:\n",
    "    1. Kmeans\n",
    "    2. Hierarical Clustering\n",
    "    3. DB Scan Clustering\n",
    "    \n",
    "1. **KMeans** is centroid based clustering algorithm that separates the dataset K distint clusters or groups. Kmeans is used when dataset is large. It is applicable only for numerical dataset.\n",
    "\n",
    "2. **Hierarical Clustering** are not based on cetroids, it will consider each data points as a cluster. Finding the nearest point and creates a new cluster, this process will continue until it forms a single cluster. There are two most important approaches Agglomerative and Divisive clustering. Hierarichal clustering is used when dataset is small. It is applicable for variety of data.\n",
    "\n",
    "3. **DB Scan Clustering** contains one core point and one border point and one outlier point. a minimum number of data points are clustered together withon the particular radius. They can learn more hard patterns that are present in the dataset. It is robust to outliers and better than both Kmeans ans Hierarical Clustering.  "
   ]
  },
  {
   "cell_type": "markdown",
   "id": "543564f3",
   "metadata": {},
   "source": [
    "#### Q2.What is K-means clustering, and how does it work?"
   ]
  },
  {
   "cell_type": "markdown",
   "id": "52d09955",
   "metadata": {},
   "source": [
    "* KMeans is centroid based clustering algorithm that separates the dataset K distint clusters or groups. \n",
    "* Kmeans is used when dataset is large, It is applicable only for numerical dataset.\n",
    "* It works by initializing some K values, and forms a clusters that are not classified correctly.\n",
    "* By updating the K values by using distance formula centroid positions are changed. This process will continue until it we find the right K value, inorder to classify the datapoints in the right cluster, by using the elbow method we will be able to determine the right k value, where the within clusters sum of squares will get stagnent"
   ]
  },
  {
   "cell_type": "markdown",
   "id": "82a39dab",
   "metadata": {},
   "source": [
    "#### Q3. What are some advantages and limitations of K-means clustering compared to other clustering techniques?"
   ]
  },
  {
   "cell_type": "markdown",
   "id": "15ab4387",
   "metadata": {},
   "source": [
    "#### Advantages of Kmeans Clustering "
   ]
  },
  {
   "cell_type": "markdown",
   "id": "3d580695",
   "metadata": {},
   "source": [
    "* Kmeans is one of the best clustering algorithms, where it uses centroid to classifies the different clusters.\n",
    "* Kmeans is used for large dataset, relatively simple to implement\n",
    "* It generalizes to clusters of different shapes and sizes."
   ]
  },
  {
   "cell_type": "markdown",
   "id": "72961df1",
   "metadata": {},
   "source": [
    "#### Disadvantages of Kmeans Clustering"
   ]
  },
  {
   "cell_type": "markdown",
   "id": "301919b3",
   "metadata": {},
   "source": [
    "* Due to the random intialazation of centroid the clusters may classify the wrong clusters. It may cause to random intialization trap.\n",
    "* Kmeans works well with the large dataset and it is applicable to numerical dataset.\n",
    "* Kmeans is sensitive to outliers."
   ]
  },
  {
   "cell_type": "markdown",
   "id": "2ce74052",
   "metadata": {},
   "source": [
    "#### Q4. How do you determine the optimal number of clusters in K-means clustering, and what are some common methods for doing so?"
   ]
  },
  {
   "cell_type": "markdown",
   "id": "8f340879",
   "metadata": {},
   "source": [
    "* Kmeans works by initializing some K values, and forms a clusters that are not classified correctly.\n",
    "* By updating the K values by using distance formula, centroid positions are changed. This process will continue until it we find the right K value, inorder to classify the datapoints in the right cluster, by using the elbow method we will be able to determine the right k value, where the within clusters sum of squares will get stagnent. therefore the WCSS will be in same value. "
   ]
  },
  {
   "cell_type": "markdown",
   "id": "f8616657",
   "metadata": {},
   "source": [
    "#### Q5. What are some applications of K-means clustering in real-world scenarios, and how has it been used to solve specific problems?"
   ]
  },
  {
   "cell_type": "markdown",
   "id": "e4c712dc",
   "metadata": {},
   "source": [
    "#### Applications of Kmeans Clustering\n",
    "\n",
    "1. Customer segmentation \n",
    "2. Fraud detection\n",
    "3. Predicting account attrition \n",
    "4. Targeting client incentives \n",
    "5. Cybercrime identification \n",
    "6. Delivery route optimization.\n"
   ]
  },
  {
   "cell_type": "markdown",
   "id": "24e56473",
   "metadata": {},
   "source": [
    "#### Q6. How do you interpret the output of a K-means clustering algorithm, and what insights can you derive from the resulting clusters?"
   ]
  },
  {
   "cell_type": "markdown",
   "id": "3f2f07e8",
   "metadata": {},
   "source": [
    "* By kmeans Clustering we are able to find underlying patterns of potential customers buying pattern \n",
    "\n",
    "* Targeting the right customers for advertising in Digital marketing. \n",
    "\n",
    "* Identifying the rare observations that slightly differ from the majority of the data.  "
   ]
  },
  {
   "cell_type": "markdown",
   "id": "d5b956f0",
   "metadata": {},
   "source": [
    "#### Q7. What are some common challenges in implementing K-means clustering, and how can you address them?"
   ]
  },
  {
   "cell_type": "markdown",
   "id": "b66bde24",
   "metadata": {},
   "source": [
    "1. k-Means doesn’t perform well if the clusters have varying sizes, different densities, or non spherical shapes.\n",
    "\n",
    "2. Has to be run for a certain amount of iteration or it would produce a suboptimal result.\n",
    "\n",
    "3. Computationally expensive as distance is to be calculated from each centroid to all data points.\n",
    "\n",
    "4. Can’t handle high dimensional data\n",
    "\n",
    "5. Number of clusters need to be specified\n",
    "\n",
    "6. Since initial centroids are arbitrarily chosen, the result is not exactly replicable.\n",
    "\n",
    "7. Shows out of memory error for large datasets"
   ]
  },
  {
   "cell_type": "code",
   "execution_count": null,
   "id": "cd1c97ff",
   "metadata": {},
   "outputs": [],
   "source": []
  }
 ],
 "metadata": {
  "kernelspec": {
   "display_name": "Python 3 (ipykernel)",
   "language": "python",
   "name": "python3"
  },
  "language_info": {
   "codemirror_mode": {
    "name": "ipython",
    "version": 3
   },
   "file_extension": ".py",
   "mimetype": "text/x-python",
   "name": "python",
   "nbconvert_exporter": "python",
   "pygments_lexer": "ipython3",
   "version": "3.9.13"
  }
 },
 "nbformat": 4,
 "nbformat_minor": 5
}
